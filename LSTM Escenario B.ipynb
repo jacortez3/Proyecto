{
 "cells": [
  {
   "cell_type": "code",
   "execution_count": 53,
   "id": "11c4053c",
   "metadata": {},
   "outputs": [],
   "source": [
    "import pandas as pd\n",
    "import numpy as np\n",
    "from sklearn.model_selection import train_test_split\n",
    "from sklearn.preprocessing import MinMaxScaler\n",
    "from keras.models import Sequential\n",
    "from keras.layers import Dense, LSTM, Conv1D, MaxPooling1D, Flatten, ConvLSTM2D"
   ]
  },
  {
   "cell_type": "code",
   "execution_count": 54,
   "id": "2c424b82",
   "metadata": {},
   "outputs": [],
   "source": [
    "datapath = 'https://raw.githubusercontent.com/JonathanC1/Datasets/master/TorNonTor/TimeBasedFeatures-10s-Layer2.csv'\n",
    "dataframe = pd.read_csv(datapath,low_memory=False)"
   ]
  },
  {
   "cell_type": "code",
   "execution_count": 55,
   "id": "d2dc0ea4",
   "metadata": {},
   "outputs": [],
   "source": [
    "def dfNormalize(df):\n",
    "    for feature_name in df.columns:\n",
    "        df.loc[:,feature_name]= pd.to_numeric(df.loc[:,feature_name], errors='coerce').fillna(0)\n",
    "        max_value = df[feature_name].max()\n",
    "        min_value = df[feature_name].min()   \n",
    "        if (max_value - min_value) > 0:\n",
    "            df.loc[:,feature_name] = (df.loc[:,feature_name] - min_value) / (max_value - min_value)\n",
    "        else:\n",
    "            df.loc[:,feature_name] = (df.loc[:,feature_name]- min_value)    \n",
    "    return df"
   ]
  },
  {
   "cell_type": "code",
   "execution_count": 56,
   "id": "b07e763a",
   "metadata": {},
   "outputs": [
    {
     "name": "stdout",
     "output_type": "stream",
     "text": [
      "(2256, 29)\n",
      "        Source Port   Destination Port   Protocol   Flow Duration   \n",
      "count   2256.000000        2256.000000     2256.0    2.256000e+03  \\\n",
      "mean   37249.008422        8246.570035        6.0    7.717811e+06   \n",
      "std    19072.507181       16078.566419        0.0    3.539168e+06   \n",
      "min      110.000000         110.000000        6.0    3.400000e+01   \n",
      "25%    34328.000000         443.000000        6.0    6.420080e+06   \n",
      "50%    41071.000000         443.000000        6.0    9.911042e+06   \n",
      "75%    54453.000000         443.000000        6.0    9.983053e+06   \n",
      "max    60740.000000       58368.000000        6.0    1.000000e+07   \n",
      "\n",
      "        Flow IAT Max   Flow IAT Min   Fwd IAT Max   Fwd IAT Min   Bwd IAT Max   \n",
      "count   2.256000e+03    2256.000000  2.256000e+03  2.256000e+03  2.256000e+03  \\\n",
      "mean    1.497806e+06      63.697695  1.504453e+06  5.715877e+04  1.439050e+06   \n",
      "std     2.157067e+06    1131.040217  2.154873e+06  5.658512e+05  2.099171e+06   \n",
      "min     3.400000e+01    -442.000000  0.000000e+00 -1.700000e+02  0.000000e+00   \n",
      "25%     1.287580e+05       0.000000  1.362098e+05  0.000000e+00  1.279335e+05   \n",
      "50%     3.740920e+05       5.000000  3.828780e+05  3.000000e+01  3.580695e+05   \n",
      "75%     2.166652e+06      25.000000  2.167433e+06  8.700000e+01  2.058246e+06   \n",
      "max     9.962146e+06   38210.000000  9.962339e+06  9.962339e+06  9.962325e+06   \n",
      "\n",
      "        Bwd IAT Min   Active Mean   Active Std    Active Max    Active Min   \n",
      "count  2.256000e+03  2.256000e+03       2256.0  2.256000e+03  2.256000e+03  \\\n",
      "mean   7.172995e+04  7.433144e+04          0.0  7.433144e+04  7.433144e+04   \n",
      "std    6.279014e+05  4.130084e+05          0.0  4.130084e+05  4.130084e+05   \n",
      "min   -1.820000e+02  0.000000e+00          0.0  0.000000e+00  0.000000e+00   \n",
      "25%    0.000000e+00  0.000000e+00          0.0  0.000000e+00  0.000000e+00   \n",
      "50%    1.000000e+01  0.000000e+00          0.0  0.000000e+00  0.000000e+00   \n",
      "75%    7.800000e+01  0.000000e+00          0.0  0.000000e+00  0.000000e+00   \n",
      "max    9.962325e+06  4.823748e+06          0.0  4.823748e+06  4.823748e+06   \n",
      "\n",
      "          Idle Mean   Idle Std      Idle Max      Idle Min  \n",
      "count  2.256000e+03     2256.0  2.256000e+03  2.256000e+03  \n",
      "mean   6.453425e+05        0.0  6.453425e+05  6.453425e+05  \n",
      "std    2.082684e+06        0.0  2.082684e+06  2.082684e+06  \n",
      "min    0.000000e+00        0.0  0.000000e+00  0.000000e+00  \n",
      "25%    0.000000e+00        0.0  0.000000e+00  0.000000e+00  \n",
      "50%    0.000000e+00        0.0  0.000000e+00  0.000000e+00  \n",
      "75%    0.000000e+00        0.0  0.000000e+00  0.000000e+00  \n",
      "max    9.962146e+06        0.0  9.962146e+06  9.962146e+06  \n",
      "['Source IP', ' Source Port', ' Destination IP', ' Destination Port', ' Protocol', ' Flow Duration', ' Flow Bytes/s', ' Flow Packets/s', ' Flow IAT Mean', ' Flow IAT Std', ' Flow IAT Max', ' Flow IAT Min', 'Fwd IAT Mean', ' Fwd IAT Std', ' Fwd IAT Max', ' Fwd IAT Min', 'Bwd IAT Mean', ' Bwd IAT Std', ' Bwd IAT Max', ' Bwd IAT Min', 'Active Mean', ' Active Std', ' Active Max', ' Active Min', 'Idle Mean', ' Idle Std', ' Idle Max', ' Idle Min', 'label']\n"
     ]
    }
   ],
   "source": [
    "print(dataframe.shape)\n",
    "dataframe = dataframe.reindex(np.random.permutation(dataframe.index)).copy()\n",
    "print(dataframe.describe())\n",
    "print(list(dataframe))"
   ]
  },
  {
   "cell_type": "code",
   "execution_count": 57,
   "id": "752ef1ff",
   "metadata": {},
   "outputs": [
    {
     "name": "stdout",
     "output_type": "stream",
     "text": [
      "        Protocol   Flow Duration   Flow IAT Max   Flow IAT Min   Fwd IAT Max   \n",
      "count     2256.0     2256.000000    2256.000000    2256.000000   2256.000000  \\\n",
      "mean         0.0        0.771780       0.150347       0.013083      0.151014   \n",
      "std          0.0        0.353918       0.216527       0.029262      0.216302   \n",
      "min          0.0        0.000000       0.000000       0.000000      0.000000   \n",
      "25%          0.0        0.642007       0.012921       0.011435      0.013672   \n",
      "50%          0.0        0.991104       0.037548       0.011565      0.038433   \n",
      "75%          0.0        0.998305       0.217486       0.012082      0.217563   \n",
      "max          0.0        1.000000       1.000000       1.000000      1.000000   \n",
      "\n",
      "        Fwd IAT Min   Bwd IAT Max   Bwd IAT Min  Active Mean   Active Std   \n",
      "count   2256.000000   2256.000000   2256.000000  2256.000000       2256.0  \\\n",
      "mean       0.005754      0.144449      0.007218     0.015409          0.0   \n",
      "std        0.056798      0.210711      0.063026     0.085620          0.0   \n",
      "min        0.000000      0.000000      0.000000     0.000000          0.0   \n",
      "25%        0.000017      0.012842      0.000018     0.000000          0.0   \n",
      "50%        0.000020      0.035942      0.000019     0.000000          0.0   \n",
      "75%        0.000026      0.206603      0.000026     0.000000          0.0   \n",
      "max        1.000000      1.000000      1.000000     1.000000          0.0   \n",
      "\n",
      "        Active Max   Active Min    Idle Mean   Idle Std     Idle Max   \n",
      "count  2256.000000  2256.000000  2256.000000     2256.0  2256.000000  \\\n",
      "mean      0.015409     0.015409     0.064779        0.0     0.064779   \n",
      "std       0.085620     0.085620     0.209060        0.0     0.209060   \n",
      "min       0.000000     0.000000     0.000000        0.0     0.000000   \n",
      "25%       0.000000     0.000000     0.000000        0.0     0.000000   \n",
      "50%       0.000000     0.000000     0.000000        0.0     0.000000   \n",
      "75%       0.000000     0.000000     0.000000        0.0     0.000000   \n",
      "max       1.000000     1.000000     1.000000        0.0     1.000000   \n",
      "\n",
      "          Idle Min  \n",
      "count  2256.000000  \n",
      "mean      0.064779  \n",
      "std       0.209060  \n",
      "min       0.000000  \n",
      "25%       0.000000  \n",
      "50%       0.000000  \n",
      "75%       0.000000  \n",
      "max       1.000000  \n"
     ]
    }
   ],
   "source": [
    "keys = dataframe.keys()\n",
    "data_to_process = dataframe[keys[4:len(keys) - 1]].copy()\n",
    "x_normalised = dfNormalize(data_to_process)\n",
    "print(x_normalised.describe())"
   ]
  },
  {
   "cell_type": "code",
   "execution_count": 58,
   "id": "59679111",
   "metadata": {},
   "outputs": [],
   "source": [
    "def change_labels(value):\n",
    "    if value == 'AUDIO':\n",
    "        return 1\n",
    "    elif value == 'BROWSING':\n",
    "        return 2\n",
    "    elif value == 'CHAT':\n",
    "        return 3\n",
    "    elif value == 'FILE-TRANSFER':\n",
    "        return 4\n",
    "    elif value == 'MAIL':\n",
    "        return 5\n",
    "    elif value == 'P2P':\n",
    "        return 6\n",
    "    elif value == 'VIDEO':\n",
    "        return 7\n",
    "    else:\n",
    "        return 8"
   ]
  },
  {
   "cell_type": "code",
   "execution_count": 59,
   "id": "22e69d38",
   "metadata": {},
   "outputs": [],
   "source": [
    "y_normalised = dataframe['label'].apply(change_labels)\n",
    "\n",
    "X_train, X_test, y_train, y_test = train_test_split(x_normalised, y_normalised, test_size = 0.20)"
   ]
  },
  {
   "cell_type": "code",
   "execution_count": 60,
   "id": "7764b648",
   "metadata": {},
   "outputs": [],
   "source": [
    "# Build the LSTM model\n",
    "model = Sequential()\n",
    "model.add(LSTM(128,activation='relu',input_shape=(X_train.shape[1],1)))\n",
    "model.add(Dense(1, activation='sigmoid'))\n",
    "model.compile(loss='binary_crossentropy', metrics=['accuracy'])"
   ]
  },
  {
   "cell_type": "code",
   "execution_count": 61,
   "id": "30be18b5",
   "metadata": {},
   "outputs": [],
   "source": [
    "X_train = X_train.values.reshape(X_train.shape[0], X_train.shape[1], 1)\n",
    "X_test = X_test.values.reshape(X_test.shape[0], X_test.shape[1], 1)"
   ]
  },
  {
   "cell_type": "code",
   "execution_count": 63,
   "id": "ba219ec4",
   "metadata": {},
   "outputs": [
    {
     "name": "stdout",
     "output_type": "stream",
     "text": [
      "Epoch 1/20\n",
      "57/57 [==============================] - 1s 17ms/step - loss: -1530631931429946130432.0000 - accuracy: 0.1192\n",
      "Epoch 2/20\n",
      "57/57 [==============================] - 1s 21ms/step - loss: -1976865330270929158144.0000 - accuracy: 0.1192\n",
      "Epoch 3/20\n",
      "57/57 [==============================] - 1s 25ms/step - loss: -2300552968501393883136.0000 - accuracy: 0.1192\n",
      "Epoch 4/20\n",
      "57/57 [==============================] - 1s 13ms/step - loss: -2550486140796830482432.0000 - accuracy: 0.1192\n",
      "Epoch 5/20\n",
      "57/57 [==============================] - 1s 24ms/step - loss: -2763208602646095069184.0000 - accuracy: 0.1192\n",
      "Epoch 6/20\n",
      "57/57 [==============================] - 1s 25ms/step - loss: -2956854379423771656192.0000 - accuracy: 0.1192\n",
      "Epoch 7/20\n",
      "57/57 [==============================] - 1s 14ms/step - loss: -3138619941859421585408.0000 - accuracy: 0.1192\n",
      "Epoch 8/20\n",
      "57/57 [==============================] - 1s 19ms/step - loss: -3303600588483861676032.0000 - accuracy: 0.1192\n",
      "Epoch 9/20\n",
      "57/57 [==============================] - 1s 26ms/step - loss: -3453846020077498925056.0000 - accuracy: 0.1192\n",
      "Epoch 10/20\n",
      "57/57 [==============================] - 1s 21ms/step - loss: -3592133268760560664576.0000 - accuracy: 0.1192\n",
      "Epoch 11/20\n",
      "57/57 [==============================] - 1s 18ms/step - loss: -3717612561578357424128.0000 - accuracy: 0.1192\n",
      "Epoch 12/20\n",
      "57/57 [==============================] - 1s 17ms/step - loss: -3830791116438921805824.0000 - accuracy: 0.1192\n",
      "Epoch 13/20\n",
      "57/57 [==============================] - 1s 24ms/step - loss: -3932221187246560116736.0000 - accuracy: 0.1192\n",
      "Epoch 14/20\n",
      "57/57 [==============================] - 1s 24ms/step - loss: -4022286987344482402304.0000 - accuracy: 0.1192\n",
      "Epoch 15/20\n",
      "57/57 [==============================] - 1s 16ms/step - loss: -4101754973094271778816.0000 - accuracy: 0.1192\n",
      "Epoch 16/20\n",
      "57/57 [==============================] - 2s 32ms/step - loss: -4171941321487027273728.0000 - accuracy: 0.1192\n",
      "Epoch 17/20\n",
      "57/57 [==============================] - 1s 26ms/step - loss: -4234117736467527630848.0000 - accuracy: 0.1192\n",
      "Epoch 18/20\n",
      "57/57 [==============================] - 2s 27ms/step - loss: -4288625647182522875904.0000 - accuracy: 0.1192\n",
      "Epoch 19/20\n",
      "57/57 [==============================] - 1s 18ms/step - loss: -4336512703495330070528.0000 - accuracy: 0.1192\n",
      "Epoch 20/20\n",
      "57/57 [==============================] - 1s 21ms/step - loss: -4378891294513909727232.0000 - accuracy: 0.1192\n"
     ]
    },
    {
     "data": {
      "text/plain": [
       "<keras.callbacks.History at 0x1dd97669cc0>"
      ]
     },
     "execution_count": 63,
     "metadata": {},
     "output_type": "execute_result"
    }
   ],
   "source": [
    "# Fit the model\n",
    "X_train = np.asarray(X_train).astype(np.float32)\n",
    "y_train = np.asarray(y_train).astype(np.float32)\n",
    "model.fit(X_train, y_train, epochs=20, batch_size=32)"
   ]
  },
  {
   "cell_type": "code",
   "execution_count": 67,
   "id": "3c6f8a0c",
   "metadata": {},
   "outputs": [
    {
     "name": "stdout",
     "output_type": "stream",
     "text": [
      "Test accuracy: 0.14823009073734283\n"
     ]
    }
   ],
   "source": [
    "# Evaluate the model\n",
    "X_test = np.asarray(X_test).astype(np.float32)\n",
    "y_test = np.asarray(y_test).astype(np.float32)\n",
    "score = model.evaluate(X_test, y_test, verbose=0)\n",
    "#print('Test loss:', score[0])\n",
    "print('Test accuracy:', score[1])\n"
   ]
  },
  {
   "cell_type": "code",
   "execution_count": null,
   "id": "074f1a84",
   "metadata": {},
   "outputs": [],
   "source": []
  }
 ],
 "metadata": {
  "kernelspec": {
   "display_name": "Python 3 (ipykernel)",
   "language": "python",
   "name": "python3"
  },
  "language_info": {
   "codemirror_mode": {
    "name": "ipython",
    "version": 3
   },
   "file_extension": ".py",
   "mimetype": "text/x-python",
   "name": "python",
   "nbconvert_exporter": "python",
   "pygments_lexer": "ipython3",
   "version": "3.10.9"
  }
 },
 "nbformat": 4,
 "nbformat_minor": 5
}
