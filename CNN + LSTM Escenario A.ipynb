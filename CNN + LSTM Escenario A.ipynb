{
 "cells": [
  {
   "cell_type": "code",
   "execution_count": 1,
   "id": "c04d3329",
   "metadata": {},
   "outputs": [],
   "source": [
    "import pandas as pd\n",
    "import numpy as np\n",
    "from sklearn.metrics import classification_report, confusion_matrix\n",
    "from keras.models import Model\n",
    "from sklearn.model_selection import train_test_split\n",
    "from sklearn.preprocessing import MinMaxScaler\n",
    "from numpy import array\n",
    "from keras.models import Sequential\n",
    "from keras.layers import Dense, Dropout, ConvLSTM1D, Flatten, Conv2D, Input ,LSTM\n",
    "from keras.layers import TimeDistributed\n",
    "from keras.layers.convolutional import Conv1D\n",
    "from keras.layers.convolutional import MaxPooling1D\n",
    "from keras.optimizers import Adam\n",
    "\n",
    "import tensorflow as tf\n",
    "from sklearn.preprocessing import StandardScaler\n"
   ]
  },
  {
   "cell_type": "code",
   "execution_count": 2,
   "id": "642a7a3f",
   "metadata": {},
   "outputs": [],
   "source": [
    "datapath = 'https://raw.githubusercontent.com/JonathanC1/Datasets/master/TorNonTor/SelectedFeatures-10s-TOR-NonTOR.csv'\n",
    "dataframe = pd.read_csv(datapath,low_memory=False)"
   ]
  },
  {
   "cell_type": "code",
   "execution_count": 3,
   "id": "756a8795",
   "metadata": {},
   "outputs": [],
   "source": [
    "def dfNormalize(df):\n",
    "    for feature_name in df.columns:\n",
    "        df.loc[:,feature_name]= pd.to_numeric(df.loc[:,feature_name], errors='coerce').fillna(0)\n",
    "        max_value = df[feature_name].max()\n",
    "        min_value = df[feature_name].min()   \n",
    "        if (max_value - min_value) > 0:\n",
    "            df.loc[:,feature_name] = (df.loc[:,feature_name] - min_value) / (max_value - min_value)\n",
    "        else:\n",
    "            df.loc[:,feature_name] = (df.loc[:,feature_name]- min_value)    \n",
    "    return df"
   ]
  },
  {
   "cell_type": "code",
   "execution_count": 4,
   "id": "ca585b57",
   "metadata": {},
   "outputs": [
    {
     "name": "stdout",
     "output_type": "stream",
     "text": [
      "(16088, 29)\n",
      "        Source Port   Destination Port   Protocol   Flow Duration   \n",
      "count  16088.000000       16088.000000    16088.0    1.608800e+04  \\\n",
      "mean   36296.304388       11777.729426        6.0    4.422426e+06   \n",
      "std    21217.827170       19907.298714        0.0    4.650899e+06   \n",
      "min       21.000000          21.000000        6.0    1.000000e+00   \n",
      "25%    33224.000000         443.000000        6.0    3.710925e+04   \n",
      "50%    41282.000000         443.000000        6.0    7.780915e+05   \n",
      "75%    54420.000000        9001.000000        6.0    9.965477e+06   \n",
      "max    65087.000000       65514.000000        6.0    1.000000e+07   \n",
      "\n",
      "        Flow IAT Max   Flow IAT Min   Fwd IAT Max   Fwd IAT Min   Bwd IAT Max   \n",
      "count   1.608800e+04   1.608800e+04  1.608800e+04  1.608800e+04  1.608800e+04  \\\n",
      "mean    8.139237e+05   6.711377e+04  7.562887e+05  8.203885e+04  5.994034e+05   \n",
      "std     1.775624e+06   4.228532e+05  1.745859e+06  6.422426e+05  1.525304e+06   \n",
      "min     1.000000e+00  -2.255000e+03  0.000000e+00 -3.160000e+02  0.000000e+00   \n",
      "25%     3.706550e+04   7.000000e+00  0.000000e+00  0.000000e+00  0.000000e+00   \n",
      "50%     1.054225e+05   5.200000e+01  6.991700e+04  0.000000e+00  7.000000e+00   \n",
      "75%     3.832422e+05   3.359300e+04  3.658805e+05  5.800000e+01  2.400830e+05   \n",
      "max     9.996903e+06   9.904104e+06  9.997140e+06  9.997140e+06  9.996903e+06   \n",
      "\n",
      "        Bwd IAT Min   Active Mean   Active Std    Active Max    Active Min   \n",
      "count  1.608800e+04  1.608800e+04      16088.0  1.608800e+04  1.608800e+04  \\\n",
      "mean   5.767559e+04  2.648196e+04          0.0  2.648196e+04  2.648196e+04   \n",
      "std    5.811799e+05  2.404183e+05          0.0  2.404183e+05  2.404183e+05   \n",
      "min   -3.270000e+02  0.000000e+00          0.0  0.000000e+00  0.000000e+00   \n",
      "25%    0.000000e+00  0.000000e+00          0.0  0.000000e+00  0.000000e+00   \n",
      "50%    0.000000e+00  0.000000e+00          0.0  0.000000e+00  0.000000e+00   \n",
      "75%    2.600000e+01  0.000000e+00          0.0  0.000000e+00  0.000000e+00   \n",
      "max    9.996903e+06  4.823748e+06          0.0  4.823748e+06  4.823748e+06   \n",
      "\n",
      "          Idle Mean   Idle Std      Idle Max      Idle Min  \n",
      "count  1.608800e+04    16088.0  1.608800e+04  1.608800e+04  \n",
      "mean   2.576211e+05        0.0  2.576211e+05  2.576211e+05  \n",
      "std    1.365577e+06        0.0  1.365577e+06  1.365577e+06  \n",
      "min    0.000000e+00        0.0  0.000000e+00  0.000000e+00  \n",
      "25%    0.000000e+00        0.0  0.000000e+00  0.000000e+00  \n",
      "50%    0.000000e+00        0.0  0.000000e+00  0.000000e+00  \n",
      "75%    0.000000e+00        0.0  0.000000e+00  0.000000e+00  \n",
      "max    9.996903e+06        0.0  9.996903e+06  9.996903e+06  \n",
      "['Source IP', ' Source Port', ' Destination IP', ' Destination Port', ' Protocol', ' Flow Duration', ' Flow Bytes/s', ' Flow Packets/s', ' Flow IAT Mean', ' Flow IAT Std', ' Flow IAT Max', ' Flow IAT Min', 'Fwd IAT Mean', ' Fwd IAT Std', ' Fwd IAT Max', ' Fwd IAT Min', 'Bwd IAT Mean', ' Bwd IAT Std', ' Bwd IAT Max', ' Bwd IAT Min', 'Active Mean', ' Active Std', ' Active Max', ' Active Min', 'Idle Mean', ' Idle Std', ' Idle Max', ' Idle Min', 'label']\n"
     ]
    }
   ],
   "source": [
    "print(dataframe.shape)\n",
    "dataframe = dataframe.reindex(np.random.permutation(dataframe.index)).copy()\n",
    "print(dataframe.describe())\n",
    "print(list(dataframe))"
   ]
  },
  {
   "cell_type": "code",
   "execution_count": 5,
   "id": "44e8d54f",
   "metadata": {},
   "outputs": [
    {
     "name": "stdout",
     "output_type": "stream",
     "text": [
      "        Protocol   Flow Duration   Flow IAT Max   Flow IAT Min   Fwd IAT Max   \n",
      "count    16088.0    16088.000000   16088.000000   16088.000000  16088.000000  \\\n",
      "mean         0.0        0.442243       0.081417       0.007002      0.075651   \n",
      "std          0.0        0.465090       0.177617       0.042685      0.174636   \n",
      "min          0.0        0.000000       0.000000       0.000000      0.000000   \n",
      "25%          0.0        0.003711       0.003708       0.000228      0.000000   \n",
      "50%          0.0        0.077809       0.010545       0.000233      0.006994   \n",
      "75%          0.0        0.996548       0.038336       0.003619      0.036599   \n",
      "max          0.0        1.000000       1.000000       1.000000      1.000000   \n",
      "\n",
      "        Fwd IAT Min   Bwd IAT Max   Bwd IAT Min   Active Mean   Active Std   \n",
      "count  16088.000000  1.608800e+04  16088.000000  16088.000000      16088.0  \\\n",
      "mean       0.008238  5.995891e-02      0.005802      0.005490          0.0   \n",
      "std        0.064241  1.525777e-01      0.058134      0.049841          0.0   \n",
      "min        0.000000  0.000000e+00      0.000000      0.000000          0.0   \n",
      "25%        0.000032  0.000000e+00      0.000033      0.000000          0.0   \n",
      "50%        0.000032  7.002169e-07      0.000033      0.000000          0.0   \n",
      "75%        0.000037  2.401574e-02      0.000035      0.000000          0.0   \n",
      "max        1.000000  1.000000e+00      1.000000      1.000000          0.0   \n",
      "\n",
      "         Active Max    Active Min    Idle Mean   Idle Std     Idle Max   \n",
      "count  16088.000000  16088.000000  16088.00000    16088.0  16088.00000  \\\n",
      "mean       0.005490      0.005490      0.02577        0.0      0.02577   \n",
      "std        0.049841      0.049841      0.13660        0.0      0.13660   \n",
      "min        0.000000      0.000000      0.00000        0.0      0.00000   \n",
      "25%        0.000000      0.000000      0.00000        0.0      0.00000   \n",
      "50%        0.000000      0.000000      0.00000        0.0      0.00000   \n",
      "75%        0.000000      0.000000      0.00000        0.0      0.00000   \n",
      "max        1.000000      1.000000      1.00000        0.0      1.00000   \n",
      "\n",
      "          Idle Min  \n",
      "count  16088.00000  \n",
      "mean       0.02577  \n",
      "std        0.13660  \n",
      "min        0.00000  \n",
      "25%        0.00000  \n",
      "50%        0.00000  \n",
      "75%        0.00000  \n",
      "max        1.00000  \n"
     ]
    }
   ],
   "source": [
    "keys = dataframe.keys()\n",
    "data_to_process = dataframe[keys[4:len(keys) - 1]].copy()\n",
    "x_normalised = dfNormalize(data_to_process)\n",
    "print(x_normalised.describe())"
   ]
  },
  {
   "cell_type": "code",
   "execution_count": 6,
   "id": "c7508f49",
   "metadata": {},
   "outputs": [],
   "source": [
    "change_labels = lambda x: 1 if x == 'nonTOR' else 0\n",
    "y_normalised = dataframe['label'].apply(change_labels)\n",
    "\n",
    "X_train, X_test, y_train, y_test = train_test_split(x_normalised, y_normalised, test_size = 0.20)"
   ]
  },
  {
   "cell_type": "code",
   "execution_count": 7,
   "id": "76301713",
   "metadata": {},
   "outputs": [],
   "source": [
    "scaler = StandardScaler()\n",
    "scaler.fit(X_train)\n",
    "\n",
    "X_train = scaler.transform(X_train)\n",
    "X_test = scaler.transform(X_test)"
   ]
  },
  {
   "cell_type": "code",
   "execution_count": 8,
   "id": "b272ea8b",
   "metadata": {},
   "outputs": [
    {
     "data": {
      "text/plain": [
       "(12870, 24, 1)"
      ]
     },
     "execution_count": 8,
     "metadata": {},
     "output_type": "execute_result"
    }
   ],
   "source": [
    "X_train = np.reshape(X_train,(X_train.shape[0],X_train.shape[1],1))\n",
    "X_train = np.asarray(X_train).astype(np.float32)\n",
    "X_train.shape\n"
   ]
  },
  {
   "cell_type": "code",
   "execution_count": 14,
   "id": "00578aa5",
   "metadata": {},
   "outputs": [],
   "source": [
    "#definir el modelo\n",
    "model = tf.keras.models.Sequential()\n",
    "model.add(tf.keras.layers.Dense(12, input_shape=(x_normalised.shape[1],1), activation='relu')) # 12 8 Son las neuronas\n",
    "model.add(tf.keras.layers.Dense(8, activation='relu'))\n",
    "model.add(tf.keras.layers.Dense(1, activation='sigmoid'))\n",
    "\n",
    "model.add(LSTM(128,activation='relu',input_shape=(x_normalised.shape[1],1)))\n",
    "model.add(Dropout(0.2))\n",
    "model.add(Dense(1, activation='sigmoid'))"
   ]
  },
  {
   "cell_type": "code",
   "execution_count": 15,
   "id": "37b427d9",
   "metadata": {},
   "outputs": [],
   "source": [
    "model.compile(loss='binary_crossentropy',optimizer=tf.keras.optimizers.Adam(), metrics=['acc'])"
   ]
  },
  {
   "cell_type": "code",
   "execution_count": 20,
   "id": "4ecc6137",
   "metadata": {
    "scrolled": true
   },
   "outputs": [
    {
     "name": "stdout",
     "output_type": "stream",
     "text": [
      "Epoch 1/50\n",
      "403/403 [==============================] - 8s 19ms/step - loss: 0.0510 - acc: 0.9819 - val_loss: 0.0788 - val_acc: 0.9823\n",
      "Epoch 2/50\n",
      "403/403 [==============================] - 8s 19ms/step - loss: 0.0654 - acc: 0.9785 - val_loss: 0.0489 - val_acc: 0.9832\n",
      "Epoch 3/50\n",
      "403/403 [==============================] - 8s 19ms/step - loss: 0.0513 - acc: 0.9815 - val_loss: 0.0492 - val_acc: 0.9823\n",
      "Epoch 4/50\n",
      "403/403 [==============================] - 9s 23ms/step - loss: 0.0498 - acc: 0.9828 - val_loss: 0.0612 - val_acc: 0.9820\n",
      "Epoch 5/50\n",
      "403/403 [==============================] - 8s 19ms/step - loss: 0.0501 - acc: 0.9819 - val_loss: 0.0523 - val_acc: 0.9832\n",
      "Epoch 6/50\n",
      "403/403 [==============================] - 8s 20ms/step - loss: 0.0487 - acc: 0.9827 - val_loss: 0.0576 - val_acc: 0.9820\n",
      "Epoch 7/50\n",
      "403/403 [==============================] - 8s 19ms/step - loss: 0.0624 - acc: 0.9803 - val_loss: 0.0723 - val_acc: 0.9817\n",
      "Epoch 8/50\n",
      "403/403 [==============================] - 8s 19ms/step - loss: 0.0610 - acc: 0.9805 - val_loss: 0.0712 - val_acc: 0.9826\n",
      "Epoch 9/50\n",
      "403/403 [==============================] - 8s 19ms/step - loss: 0.0538 - acc: 0.9816 - val_loss: 0.1172 - val_acc: 0.9826\n",
      "Epoch 10/50\n",
      "403/403 [==============================] - 8s 19ms/step - loss: 0.0495 - acc: 0.9825 - val_loss: 0.0729 - val_acc: 0.9829\n",
      "Epoch 11/50\n",
      "403/403 [==============================] - 8s 20ms/step - loss: 0.0539 - acc: 0.9807 - val_loss: 0.2569 - val_acc: 0.9823\n",
      "Epoch 12/50\n",
      "403/403 [==============================] - 8s 19ms/step - loss: 0.0528 - acc: 0.9820 - val_loss: 0.0837 - val_acc: 0.9829\n",
      "Epoch 13/50\n",
      "403/403 [==============================] - 8s 19ms/step - loss: 0.0496 - acc: 0.9825 - val_loss: 0.0793 - val_acc: 0.9829\n",
      "Epoch 14/50\n",
      "403/403 [==============================] - 8s 19ms/step - loss: 0.0500 - acc: 0.9821 - val_loss: 0.0822 - val_acc: 0.9820\n",
      "Epoch 15/50\n",
      "403/403 [==============================] - 8s 19ms/step - loss: 0.0520 - acc: 0.9820 - val_loss: 0.0512 - val_acc: 0.9829\n",
      "Epoch 16/50\n",
      "403/403 [==============================] - 8s 19ms/step - loss: 0.0498 - acc: 0.9821 - val_loss: 0.0883 - val_acc: 0.9826\n",
      "Epoch 17/50\n",
      "403/403 [==============================] - 8s 19ms/step - loss: 0.0484 - acc: 0.9823 - val_loss: 0.0841 - val_acc: 0.9820\n",
      "Epoch 18/50\n",
      "403/403 [==============================] - 8s 19ms/step - loss: 0.1627 - acc: 0.9756 - val_loss: 0.0635 - val_acc: 0.9810\n",
      "Epoch 19/50\n",
      "403/403 [==============================] - 8s 20ms/step - loss: 0.0633 - acc: 0.9801 - val_loss: 0.0615 - val_acc: 0.9826\n",
      "Epoch 20/50\n",
      "403/403 [==============================] - 8s 20ms/step - loss: 0.0621 - acc: 0.9807 - val_loss: 0.0579 - val_acc: 0.9814\n",
      "Epoch 21/50\n",
      "403/403 [==============================] - 8s 19ms/step - loss: 0.0584 - acc: 0.9809 - val_loss: 0.0594 - val_acc: 0.9823\n",
      "Epoch 22/50\n",
      "403/403 [==============================] - 8s 20ms/step - loss: 0.0656 - acc: 0.9803 - val_loss: 0.0595 - val_acc: 0.9823\n",
      "Epoch 23/50\n",
      "403/403 [==============================] - 8s 20ms/step - loss: 0.0557 - acc: 0.9809 - val_loss: 0.0522 - val_acc: 0.9823\n",
      "Epoch 24/50\n",
      "403/403 [==============================] - 8s 20ms/step - loss: 0.0533 - acc: 0.9813 - val_loss: 0.0643 - val_acc: 0.9823\n",
      "Epoch 25/50\n",
      "403/403 [==============================] - 8s 19ms/step - loss: 0.0530 - acc: 0.9814 - val_loss: 0.0635 - val_acc: 0.9823\n",
      "Epoch 26/50\n",
      "403/403 [==============================] - 8s 19ms/step - loss: 0.0530 - acc: 0.9817 - val_loss: 0.0585 - val_acc: 0.9826\n",
      "Epoch 27/50\n",
      "403/403 [==============================] - 8s 19ms/step - loss: 0.0512 - acc: 0.9818 - val_loss: 0.0552 - val_acc: 0.9817\n",
      "Epoch 28/50\n",
      "403/403 [==============================] - 8s 19ms/step - loss: 0.0521 - acc: 0.9820 - val_loss: 0.0591 - val_acc: 0.9820\n",
      "Epoch 29/50\n",
      "403/403 [==============================] - 8s 19ms/step - loss: 0.0504 - acc: 0.9816 - val_loss: 0.0613 - val_acc: 0.9826\n",
      "Epoch 30/50\n",
      "403/403 [==============================] - 8s 19ms/step - loss: 0.0535 - acc: 0.9810 - val_loss: 0.0584 - val_acc: 0.9829\n",
      "Epoch 31/50\n",
      "403/403 [==============================] - 8s 19ms/step - loss: 0.0513 - acc: 0.9823 - val_loss: 0.0525 - val_acc: 0.9826\n",
      "Epoch 32/50\n",
      "403/403 [==============================] - 8s 19ms/step - loss: 0.0497 - acc: 0.9821 - val_loss: 0.0558 - val_acc: 0.9826\n",
      "Epoch 33/50\n",
      "403/403 [==============================] - 8s 19ms/step - loss: 0.0514 - acc: 0.9819 - val_loss: 0.0578 - val_acc: 0.9810\n",
      "Epoch 34/50\n",
      "403/403 [==============================] - 8s 19ms/step - loss: 0.0504 - acc: 0.9821 - val_loss: 0.0551 - val_acc: 0.9823\n",
      "Epoch 35/50\n",
      "403/403 [==============================] - 8s 19ms/step - loss: 0.0496 - acc: 0.9819 - val_loss: 0.0534 - val_acc: 0.9823\n",
      "Epoch 36/50\n",
      "403/403 [==============================] - 8s 19ms/step - loss: 0.0498 - acc: 0.9820 - val_loss: 0.0501 - val_acc: 0.9832\n",
      "Epoch 37/50\n",
      "403/403 [==============================] - 8s 19ms/step - loss: 0.0516 - acc: 0.9824 - val_loss: 0.0507 - val_acc: 0.9838\n",
      "Epoch 38/50\n",
      "403/403 [==============================] - 8s 19ms/step - loss: 0.0510 - acc: 0.9819 - val_loss: 0.0549 - val_acc: 0.9832\n",
      "Epoch 39/50\n",
      "403/403 [==============================] - 8s 19ms/step - loss: 0.0498 - acc: 0.9825 - val_loss: 0.0680 - val_acc: 0.9829\n",
      "Epoch 40/50\n",
      "403/403 [==============================] - 8s 19ms/step - loss: 0.0493 - acc: 0.9821 - val_loss: 0.0913 - val_acc: 0.9820\n",
      "Epoch 41/50\n",
      "403/403 [==============================] - 8s 19ms/step - loss: 0.0497 - acc: 0.9823 - val_loss: 0.0648 - val_acc: 0.9832\n",
      "Epoch 42/50\n",
      "403/403 [==============================] - 8s 19ms/step - loss: 0.0504 - acc: 0.9821 - val_loss: 0.0515 - val_acc: 0.9823\n",
      "Epoch 43/50\n",
      "403/403 [==============================] - 8s 19ms/step - loss: 0.0511 - acc: 0.9824 - val_loss: 0.1175 - val_acc: 0.9835\n",
      "Epoch 44/50\n",
      "403/403 [==============================] - 8s 19ms/step - loss: 0.0504 - acc: 0.9824 - val_loss: 0.0483 - val_acc: 0.9826\n",
      "Epoch 45/50\n",
      "403/403 [==============================] - 8s 19ms/step - loss: 0.0502 - acc: 0.9815 - val_loss: 0.0520 - val_acc: 0.9842\n",
      "Epoch 46/50\n",
      "403/403 [==============================] - 8s 19ms/step - loss: 0.0489 - acc: 0.9822 - val_loss: 0.0501 - val_acc: 0.9826\n",
      "Epoch 47/50\n",
      "403/403 [==============================] - 8s 19ms/step - loss: 0.0512 - acc: 0.9818 - val_loss: 0.0479 - val_acc: 0.9832\n",
      "Epoch 48/50\n",
      "403/403 [==============================] - 8s 19ms/step - loss: 0.0532 - acc: 0.9816 - val_loss: 0.0506 - val_acc: 0.9829\n",
      "Epoch 49/50\n",
      "403/403 [==============================] - 8s 19ms/step - loss: 0.0500 - acc: 0.9821 - val_loss: 0.0522 - val_acc: 0.9820\n",
      "Epoch 50/50\n",
      "403/403 [==============================] - 8s 19ms/step - loss: 0.0481 - acc: 0.9828 - val_loss: 0.0533 - val_acc: 0.9832\n"
     ]
    },
    {
     "data": {
      "text/plain": [
       "<keras.callbacks.History at 0x1f1e7975630>"
      ]
     },
     "execution_count": 20,
     "metadata": {},
     "output_type": "execute_result"
    }
   ],
   "source": [
    "# Fit the model\n",
    "model.fit(X_train, y_train, validation_data=(X_test, y_test), epochs=50)"
   ]
  },
  {
   "cell_type": "code",
   "execution_count": 21,
   "id": "3b01528c",
   "metadata": {},
   "outputs": [
    {
     "name": "stdout",
     "output_type": "stream",
     "text": [
      "Test accuracy: 0.9832193851470947\n"
     ]
    }
   ],
   "source": [
    "# Evaluate the model\n",
    "X_test = np.asarray(X_test).astype(np.float32)\n",
    "y_test = np.asarray(y_test).astype(np.float32)\n",
    "score = model.evaluate(X_test, y_test, verbose=0)\n",
    "#print('Test loss:', score[0])\n",
    "print('Test accuracy:', score[1])"
   ]
  },
  {
   "cell_type": "code",
   "execution_count": null,
   "id": "6461bd50",
   "metadata": {},
   "outputs": [],
   "source": []
  }
 ],
 "metadata": {
  "kernelspec": {
   "display_name": "Python 3 (ipykernel)",
   "language": "python",
   "name": "python3"
  },
  "language_info": {
   "codemirror_mode": {
    "name": "ipython",
    "version": 3
   },
   "file_extension": ".py",
   "mimetype": "text/x-python",
   "name": "python",
   "nbconvert_exporter": "python",
   "pygments_lexer": "ipython3",
   "version": "3.10.9"
  }
 },
 "nbformat": 4,
 "nbformat_minor": 5
}
