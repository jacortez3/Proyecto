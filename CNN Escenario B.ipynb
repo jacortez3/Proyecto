{
 "cells": [
  {
   "cell_type": "code",
   "execution_count": 15,
   "id": "6b90d4b2",
   "metadata": {},
   "outputs": [],
   "source": [
    "import pandas as pd\n",
    "import numpy as np\n",
    "from sklearn.model_selection import train_test_split\n",
    "from sklearn.preprocessing import StandardScaler\n",
    "from sklearn.neighbors import KNeighborsClassifier\n",
    "from sklearn.metrics import classification_report, confusion_matrix\n",
    "\n",
    "import tensorflow as tf\n",
    "import matplotlib.pyplot as plt\n"
   ]
  },
  {
   "cell_type": "code",
   "execution_count": 16,
   "id": "eb9e4114",
   "metadata": {},
   "outputs": [],
   "source": [
    "datapath = 'https://raw.githubusercontent.com/JonathanC1/Datasets/master/TorNonTor/TimeBasedFeatures-10s-Layer2.csv'\n",
    "dataframe = pd.read_csv(datapath,low_memory=False)"
   ]
  },
  {
   "cell_type": "code",
   "execution_count": 17,
   "id": "20cec32f",
   "metadata": {},
   "outputs": [],
   "source": [
    "def dfNormalize(df):\n",
    "    for feature_name in df.columns:\n",
    "        df.loc[:,feature_name]= pd.to_numeric(df.loc[:,feature_name], errors='coerce').fillna(0)\n",
    "        max_value = df[feature_name].max()\n",
    "        min_value = df[feature_name].min()   \n",
    "        if (max_value - min_value) > 0:\n",
    "            df.loc[:,feature_name] = (df.loc[:,feature_name] - min_value) / (max_value - min_value)\n",
    "        else:\n",
    "            df.loc[:,feature_name] = (df.loc[:,feature_name]- min_value)    \n",
    "    return df"
   ]
  },
  {
   "cell_type": "code",
   "execution_count": 18,
   "id": "60175630",
   "metadata": {},
   "outputs": [
    {
     "name": "stdout",
     "output_type": "stream",
     "text": [
      "(2256, 29)\n",
      "        Source Port   Destination Port   Protocol   Flow Duration   \n",
      "count   2256.000000        2256.000000     2256.0    2.256000e+03  \\\n",
      "mean   37249.008422        8246.570035        6.0    7.717811e+06   \n",
      "std    19072.507181       16078.566419        0.0    3.539168e+06   \n",
      "min      110.000000         110.000000        6.0    3.400000e+01   \n",
      "25%    34328.000000         443.000000        6.0    6.420080e+06   \n",
      "50%    41071.000000         443.000000        6.0    9.911042e+06   \n",
      "75%    54453.000000         443.000000        6.0    9.983053e+06   \n",
      "max    60740.000000       58368.000000        6.0    1.000000e+07   \n",
      "\n",
      "        Flow IAT Max   Flow IAT Min   Fwd IAT Max   Fwd IAT Min   Bwd IAT Max   \n",
      "count   2.256000e+03    2256.000000  2.256000e+03  2.256000e+03  2.256000e+03  \\\n",
      "mean    1.497806e+06      63.697695  1.504453e+06  5.715877e+04  1.439050e+06   \n",
      "std     2.157067e+06    1131.040217  2.154873e+06  5.658512e+05  2.099171e+06   \n",
      "min     3.400000e+01    -442.000000  0.000000e+00 -1.700000e+02  0.000000e+00   \n",
      "25%     1.287580e+05       0.000000  1.362098e+05  0.000000e+00  1.279335e+05   \n",
      "50%     3.740920e+05       5.000000  3.828780e+05  3.000000e+01  3.580695e+05   \n",
      "75%     2.166652e+06      25.000000  2.167433e+06  8.700000e+01  2.058246e+06   \n",
      "max     9.962146e+06   38210.000000  9.962339e+06  9.962339e+06  9.962325e+06   \n",
      "\n",
      "        Bwd IAT Min   Active Mean   Active Std    Active Max    Active Min   \n",
      "count  2.256000e+03  2.256000e+03       2256.0  2.256000e+03  2.256000e+03  \\\n",
      "mean   7.172995e+04  7.433144e+04          0.0  7.433144e+04  7.433144e+04   \n",
      "std    6.279014e+05  4.130084e+05          0.0  4.130084e+05  4.130084e+05   \n",
      "min   -1.820000e+02  0.000000e+00          0.0  0.000000e+00  0.000000e+00   \n",
      "25%    0.000000e+00  0.000000e+00          0.0  0.000000e+00  0.000000e+00   \n",
      "50%    1.000000e+01  0.000000e+00          0.0  0.000000e+00  0.000000e+00   \n",
      "75%    7.800000e+01  0.000000e+00          0.0  0.000000e+00  0.000000e+00   \n",
      "max    9.962325e+06  4.823748e+06          0.0  4.823748e+06  4.823748e+06   \n",
      "\n",
      "          Idle Mean   Idle Std      Idle Max      Idle Min  \n",
      "count  2.256000e+03     2256.0  2.256000e+03  2.256000e+03  \n",
      "mean   6.453425e+05        0.0  6.453425e+05  6.453425e+05  \n",
      "std    2.082684e+06        0.0  2.082684e+06  2.082684e+06  \n",
      "min    0.000000e+00        0.0  0.000000e+00  0.000000e+00  \n",
      "25%    0.000000e+00        0.0  0.000000e+00  0.000000e+00  \n",
      "50%    0.000000e+00        0.0  0.000000e+00  0.000000e+00  \n",
      "75%    0.000000e+00        0.0  0.000000e+00  0.000000e+00  \n",
      "max    9.962146e+06        0.0  9.962146e+06  9.962146e+06  \n",
      "['Source IP', ' Source Port', ' Destination IP', ' Destination Port', ' Protocol', ' Flow Duration', ' Flow Bytes/s', ' Flow Packets/s', ' Flow IAT Mean', ' Flow IAT Std', ' Flow IAT Max', ' Flow IAT Min', 'Fwd IAT Mean', ' Fwd IAT Std', ' Fwd IAT Max', ' Fwd IAT Min', 'Bwd IAT Mean', ' Bwd IAT Std', ' Bwd IAT Max', ' Bwd IAT Min', 'Active Mean', ' Active Std', ' Active Max', ' Active Min', 'Idle Mean', ' Idle Std', ' Idle Max', ' Idle Min', 'label']\n"
     ]
    }
   ],
   "source": [
    "print(dataframe.shape)\n",
    "dataframe = dataframe.reindex(np.random.permutation(dataframe.index)).copy()\n",
    "print(dataframe.describe())\n",
    "print(list(dataframe))"
   ]
  },
  {
   "cell_type": "code",
   "execution_count": 19,
   "id": "dacc48a7",
   "metadata": {},
   "outputs": [
    {
     "name": "stdout",
     "output_type": "stream",
     "text": [
      "        Protocol   Flow Duration   Flow IAT Max   Flow IAT Min   Fwd IAT Max   \n",
      "count     2256.0     2256.000000    2256.000000    2256.000000   2256.000000  \\\n",
      "mean         0.0        0.771780       0.150347       0.013083      0.151014   \n",
      "std          0.0        0.353918       0.216527       0.029262      0.216302   \n",
      "min          0.0        0.000000       0.000000       0.000000      0.000000   \n",
      "25%          0.0        0.642007       0.012921       0.011435      0.013672   \n",
      "50%          0.0        0.991104       0.037548       0.011565      0.038433   \n",
      "75%          0.0        0.998305       0.217486       0.012082      0.217563   \n",
      "max          0.0        1.000000       1.000000       1.000000      1.000000   \n",
      "\n",
      "        Fwd IAT Min   Bwd IAT Max   Bwd IAT Min  Active Mean   Active Std   \n",
      "count   2256.000000   2256.000000   2256.000000  2256.000000       2256.0  \\\n",
      "mean       0.005754      0.144449      0.007218     0.015409          0.0   \n",
      "std        0.056798      0.210711      0.063026     0.085620          0.0   \n",
      "min        0.000000      0.000000      0.000000     0.000000          0.0   \n",
      "25%        0.000017      0.012842      0.000018     0.000000          0.0   \n",
      "50%        0.000020      0.035942      0.000019     0.000000          0.0   \n",
      "75%        0.000026      0.206603      0.000026     0.000000          0.0   \n",
      "max        1.000000      1.000000      1.000000     1.000000          0.0   \n",
      "\n",
      "        Active Max   Active Min    Idle Mean   Idle Std     Idle Max   \n",
      "count  2256.000000  2256.000000  2256.000000     2256.0  2256.000000  \\\n",
      "mean      0.015409     0.015409     0.064779        0.0     0.064779   \n",
      "std       0.085620     0.085620     0.209060        0.0     0.209060   \n",
      "min       0.000000     0.000000     0.000000        0.0     0.000000   \n",
      "25%       0.000000     0.000000     0.000000        0.0     0.000000   \n",
      "50%       0.000000     0.000000     0.000000        0.0     0.000000   \n",
      "75%       0.000000     0.000000     0.000000        0.0     0.000000   \n",
      "max       1.000000     1.000000     1.000000        0.0     1.000000   \n",
      "\n",
      "          Idle Min  \n",
      "count  2256.000000  \n",
      "mean      0.064779  \n",
      "std       0.209060  \n",
      "min       0.000000  \n",
      "25%       0.000000  \n",
      "50%       0.000000  \n",
      "75%       0.000000  \n",
      "max       1.000000  \n"
     ]
    }
   ],
   "source": [
    "keys = dataframe.keys()\n",
    "data_to_process = dataframe[keys[4:len(keys) - 1]].copy()\n",
    "x_normalised = dfNormalize(data_to_process)\n",
    "print(x_normalised.describe())"
   ]
  },
  {
   "cell_type": "code",
   "execution_count": 20,
   "id": "0481767f",
   "metadata": {},
   "outputs": [],
   "source": [
    "def change_labels(value):\n",
    "    if value == 'AUDIO':\n",
    "        return 1\n",
    "    elif value == 'BROWSING':\n",
    "        return 2\n",
    "    elif value == 'CHAT':\n",
    "        return 3\n",
    "    elif value == 'FILE-TRANSFER':\n",
    "        return 4\n",
    "    elif value == 'MAIL':\n",
    "        return 5\n",
    "    elif value == 'P2P':\n",
    "        return 6\n",
    "    elif value == 'VIDEO':\n",
    "        return 7\n",
    "    else:\n",
    "        return 8"
   ]
  },
  {
   "cell_type": "code",
   "execution_count": 21,
   "id": "b2833f37",
   "metadata": {},
   "outputs": [],
   "source": [
    "y_normalised = dataframe['label'].apply(change_labels)\n",
    "\n",
    "X_train, X_test, y_train, y_test = train_test_split(x_normalised, y_normalised, test_size = 0.20)"
   ]
  },
  {
   "cell_type": "code",
   "execution_count": 22,
   "id": "ac299397",
   "metadata": {},
   "outputs": [],
   "source": [
    "scaler = StandardScaler()\n",
    "scaler.fit(X_train)\n",
    "\n",
    "X_train = scaler.transform(X_train)\n",
    "X_test = scaler.transform(X_test)"
   ]
  },
  {
   "cell_type": "code",
   "execution_count": 29,
   "id": "ce2b2bf1",
   "metadata": {},
   "outputs": [],
   "source": [
    "model = tf.keras.Sequential([\n",
    "  tf.keras.layers.Conv2D(32, (3, 3), activation='relu'),\n",
    "  tf.keras.layers.MaxPooling2D((2, 2)),\n",
    "  tf.keras.layers.Conv2D(64, (3, 3), activation='relu'),\n",
    "  tf.keras.layers.MaxPooling2D((2, 2)),\n",
    "  tf.keras.layers.Flatten(),\n",
    "  tf.keras.layers.Dense(128, activation='relu'),\n",
    "  tf.keras.layers.Dense(10, activation='softmax')\n",
    "])"
   ]
  },
  {
   "cell_type": "code",
   "execution_count": 40,
   "id": "fd0e4cff",
   "metadata": {},
   "outputs": [
    {
     "name": "stdout",
     "output_type": "stream",
     "text": [
      "Epoch 1/50\n"
     ]
    },
    {
     "ename": "ValueError",
     "evalue": "in user code:\n\n    File \"C:\\Users\\jonat\\anaconda3\\lib\\site-packages\\keras\\engine\\training.py\", line 1284, in train_function  *\n        return step_function(self, iterator)\n    File \"C:\\Users\\jonat\\anaconda3\\lib\\site-packages\\keras\\engine\\training.py\", line 1268, in step_function  **\n        outputs = model.distribute_strategy.run(run_step, args=(data,))\n    File \"C:\\Users\\jonat\\anaconda3\\lib\\site-packages\\keras\\engine\\training.py\", line 1249, in run_step  **\n        outputs = model.train_step(data)\n    File \"C:\\Users\\jonat\\anaconda3\\lib\\site-packages\\keras\\engine\\training.py\", line 1050, in train_step\n        y_pred = self(x, training=True)\n    File \"C:\\Users\\jonat\\anaconda3\\lib\\site-packages\\keras\\utils\\traceback_utils.py\", line 70, in error_handler\n        raise e.with_traceback(filtered_tb) from None\n    File \"C:\\Users\\jonat\\anaconda3\\lib\\site-packages\\keras\\engine\\input_spec.py\", line 253, in assert_input_compatibility\n        raise ValueError(\n\n    ValueError: Exception encountered when calling layer 'sequential_3' (type Sequential).\n    \n    Input 0 of layer \"conv2d_6\" is incompatible with the layer: expected min_ndim=4, found ndim=2. Full shape received: (None, 24)\n    \n    Call arguments received by layer 'sequential_3' (type Sequential):\n      • inputs=tf.Tensor(shape=(None, 24), dtype=float32)\n      • training=True\n      • mask=None\n",
     "output_type": "error",
     "traceback": [
      "\u001b[1;31m---------------------------------------------------------------------------\u001b[0m",
      "\u001b[1;31mValueError\u001b[0m                                Traceback (most recent call last)",
      "Cell \u001b[1;32mIn[40], line 3\u001b[0m\n\u001b[0;32m      1\u001b[0m model\u001b[38;5;241m.\u001b[39mcompile(optimizer\u001b[38;5;241m=\u001b[39m\u001b[38;5;124m'\u001b[39m\u001b[38;5;124madam\u001b[39m\u001b[38;5;124m'\u001b[39m, loss\u001b[38;5;241m=\u001b[39mtf\u001b[38;5;241m.\u001b[39mkeras\u001b[38;5;241m.\u001b[39mlosses\u001b[38;5;241m.\u001b[39mcategorical_crossentropy, metrics\u001b[38;5;241m=\u001b[39m[\u001b[38;5;124m'\u001b[39m\u001b[38;5;124macc\u001b[39m\u001b[38;5;124m'\u001b[39m])\n\u001b[1;32m----> 3\u001b[0m \u001b[43mmodel\u001b[49m\u001b[38;5;241;43m.\u001b[39;49m\u001b[43mfit\u001b[49m\u001b[43m(\u001b[49m\u001b[43mX_train\u001b[49m\u001b[43m,\u001b[49m\u001b[43m \u001b[49m\u001b[43my_train\u001b[49m\u001b[43m,\u001b[49m\n\u001b[0;32m      4\u001b[0m \u001b[43m    \u001b[49m\u001b[43mepochs\u001b[49m\u001b[43m \u001b[49m\u001b[38;5;241;43m=\u001b[39;49m\u001b[43m \u001b[49m\u001b[38;5;241;43m50\u001b[39;49m\u001b[43m,\u001b[49m\n\u001b[0;32m      5\u001b[0m \u001b[43m    \u001b[49m\u001b[43mvalidation_data\u001b[49m\u001b[38;5;241;43m=\u001b[39;49m\u001b[43m(\u001b[49m\u001b[43mX_train\u001b[49m\u001b[43m,\u001b[49m\u001b[43m \u001b[49m\u001b[43my_train\u001b[49m\u001b[43m)\u001b[49m\u001b[43m)\u001b[49m\n",
      "File \u001b[1;32m~\\anaconda3\\lib\\site-packages\\keras\\utils\\traceback_utils.py:70\u001b[0m, in \u001b[0;36mfilter_traceback.<locals>.error_handler\u001b[1;34m(*args, **kwargs)\u001b[0m\n\u001b[0;32m     67\u001b[0m     filtered_tb \u001b[38;5;241m=\u001b[39m _process_traceback_frames(e\u001b[38;5;241m.\u001b[39m__traceback__)\n\u001b[0;32m     68\u001b[0m     \u001b[38;5;66;03m# To get the full stack trace, call:\u001b[39;00m\n\u001b[0;32m     69\u001b[0m     \u001b[38;5;66;03m# `tf.debugging.disable_traceback_filtering()`\u001b[39;00m\n\u001b[1;32m---> 70\u001b[0m     \u001b[38;5;28;01mraise\u001b[39;00m e\u001b[38;5;241m.\u001b[39mwith_traceback(filtered_tb) \u001b[38;5;28;01mfrom\u001b[39;00m \u001b[38;5;28;01mNone\u001b[39;00m\n\u001b[0;32m     71\u001b[0m \u001b[38;5;28;01mfinally\u001b[39;00m:\n\u001b[0;32m     72\u001b[0m     \u001b[38;5;28;01mdel\u001b[39;00m filtered_tb\n",
      "File \u001b[1;32m~\\AppData\\Local\\Temp\\__autograph_generated_filen7ep6ewg.py:15\u001b[0m, in \u001b[0;36mouter_factory.<locals>.inner_factory.<locals>.tf__train_function\u001b[1;34m(iterator)\u001b[0m\n\u001b[0;32m     13\u001b[0m \u001b[38;5;28;01mtry\u001b[39;00m:\n\u001b[0;32m     14\u001b[0m     do_return \u001b[38;5;241m=\u001b[39m \u001b[38;5;28;01mTrue\u001b[39;00m\n\u001b[1;32m---> 15\u001b[0m     retval_ \u001b[38;5;241m=\u001b[39m ag__\u001b[38;5;241m.\u001b[39mconverted_call(ag__\u001b[38;5;241m.\u001b[39mld(step_function), (ag__\u001b[38;5;241m.\u001b[39mld(\u001b[38;5;28mself\u001b[39m), ag__\u001b[38;5;241m.\u001b[39mld(iterator)), \u001b[38;5;28;01mNone\u001b[39;00m, fscope)\n\u001b[0;32m     16\u001b[0m \u001b[38;5;28;01mexcept\u001b[39;00m:\n\u001b[0;32m     17\u001b[0m     do_return \u001b[38;5;241m=\u001b[39m \u001b[38;5;28;01mFalse\u001b[39;00m\n",
      "\u001b[1;31mValueError\u001b[0m: in user code:\n\n    File \"C:\\Users\\jonat\\anaconda3\\lib\\site-packages\\keras\\engine\\training.py\", line 1284, in train_function  *\n        return step_function(self, iterator)\n    File \"C:\\Users\\jonat\\anaconda3\\lib\\site-packages\\keras\\engine\\training.py\", line 1268, in step_function  **\n        outputs = model.distribute_strategy.run(run_step, args=(data,))\n    File \"C:\\Users\\jonat\\anaconda3\\lib\\site-packages\\keras\\engine\\training.py\", line 1249, in run_step  **\n        outputs = model.train_step(data)\n    File \"C:\\Users\\jonat\\anaconda3\\lib\\site-packages\\keras\\engine\\training.py\", line 1050, in train_step\n        y_pred = self(x, training=True)\n    File \"C:\\Users\\jonat\\anaconda3\\lib\\site-packages\\keras\\utils\\traceback_utils.py\", line 70, in error_handler\n        raise e.with_traceback(filtered_tb) from None\n    File \"C:\\Users\\jonat\\anaconda3\\lib\\site-packages\\keras\\engine\\input_spec.py\", line 253, in assert_input_compatibility\n        raise ValueError(\n\n    ValueError: Exception encountered when calling layer 'sequential_3' (type Sequential).\n    \n    Input 0 of layer \"conv2d_6\" is incompatible with the layer: expected min_ndim=4, found ndim=2. Full shape received: (None, 24)\n    \n    Call arguments received by layer 'sequential_3' (type Sequential):\n      • inputs=tf.Tensor(shape=(None, 24), dtype=float32)\n      • training=True\n      • mask=None\n"
     ]
    }
   ],
   "source": [
    "model.compile(optimizer='adam', loss=tf.keras.losses.categorical_crossentropy, metrics=['acc'])\n",
    "\n",
    "model.fit(X_train, y_train,\n",
    "    epochs = 50,\n",
    "    validation_data=(X_train, y_train))"
   ]
  },
  {
   "cell_type": "code",
   "execution_count": null,
   "id": "eeba6086",
   "metadata": {},
   "outputs": [],
   "source": []
  }
 ],
 "metadata": {
  "kernelspec": {
   "display_name": "Python 3 (ipykernel)",
   "language": "python",
   "name": "python3"
  },
  "language_info": {
   "codemirror_mode": {
    "name": "ipython",
    "version": 3
   },
   "file_extension": ".py",
   "mimetype": "text/x-python",
   "name": "python",
   "nbconvert_exporter": "python",
   "pygments_lexer": "ipython3",
   "version": "3.10.9"
  }
 },
 "nbformat": 4,
 "nbformat_minor": 5
}
