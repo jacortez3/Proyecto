{
 "cells": [
  {
   "cell_type": "code",
   "execution_count": 1,
   "id": "c5909203",
   "metadata": {},
   "outputs": [],
   "source": [
    "import pandas as pd\n",
    "import numpy as np\n",
    "from sklearn.model_selection import train_test_split"
   ]
  },
  {
   "cell_type": "code",
   "execution_count": 2,
   "id": "52ed4d60",
   "metadata": {},
   "outputs": [],
   "source": [
    "datapath = 'https://raw.githubusercontent.com/JonathanC1/Datasets/master/TorNonTor/TimeBasedFeatures-10s-Layer2.csv'\n",
    "dataframe = pd.read_csv(datapath,low_memory=False)"
   ]
  },
  {
   "cell_type": "code",
   "execution_count": 3,
   "id": "a27660f5",
   "metadata": {},
   "outputs": [],
   "source": [
    "def dfNormalize(df):\n",
    "    for feature_name in df.columns:\n",
    "        df.loc[:,feature_name]= pd.to_numeric(df.loc[:,feature_name], errors='coerce').fillna(0)\n",
    "        max_value = df[feature_name].max()\n",
    "        min_value = df[feature_name].min()   \n",
    "        if (max_value - min_value) > 0:\n",
    "            df.loc[:,feature_name] = (df.loc[:,feature_name] - min_value) / (max_value - min_value)\n",
    "        else:\n",
    "            df.loc[:,feature_name] = (df.loc[:,feature_name]- min_value)    \n",
    "    return df"
   ]
  },
  {
   "cell_type": "code",
   "execution_count": 4,
   "id": "839b2077",
   "metadata": {},
   "outputs": [
    {
     "name": "stdout",
     "output_type": "stream",
     "text": [
      "(2256, 29)\n",
      "        Source Port   Destination Port   Protocol   Flow Duration   \n",
      "count   2256.000000        2256.000000     2256.0    2.256000e+03  \\\n",
      "mean   37249.008422        8246.570035        6.0    7.717811e+06   \n",
      "std    19072.507181       16078.566419        0.0    3.539168e+06   \n",
      "min      110.000000         110.000000        6.0    3.400000e+01   \n",
      "25%    34328.000000         443.000000        6.0    6.420080e+06   \n",
      "50%    41071.000000         443.000000        6.0    9.911042e+06   \n",
      "75%    54453.000000         443.000000        6.0    9.983053e+06   \n",
      "max    60740.000000       58368.000000        6.0    1.000000e+07   \n",
      "\n",
      "        Flow IAT Max   Flow IAT Min   Fwd IAT Max   Fwd IAT Min   Bwd IAT Max   \n",
      "count   2.256000e+03    2256.000000  2.256000e+03  2.256000e+03  2.256000e+03  \\\n",
      "mean    1.497806e+06      63.697695  1.504453e+06  5.715877e+04  1.439050e+06   \n",
      "std     2.157067e+06    1131.040217  2.154873e+06  5.658512e+05  2.099171e+06   \n",
      "min     3.400000e+01    -442.000000  0.000000e+00 -1.700000e+02  0.000000e+00   \n",
      "25%     1.287580e+05       0.000000  1.362098e+05  0.000000e+00  1.279335e+05   \n",
      "50%     3.740920e+05       5.000000  3.828780e+05  3.000000e+01  3.580695e+05   \n",
      "75%     2.166652e+06      25.000000  2.167433e+06  8.700000e+01  2.058246e+06   \n",
      "max     9.962146e+06   38210.000000  9.962339e+06  9.962339e+06  9.962325e+06   \n",
      "\n",
      "        Bwd IAT Min   Active Mean   Active Std    Active Max    Active Min   \n",
      "count  2.256000e+03  2.256000e+03       2256.0  2.256000e+03  2.256000e+03  \\\n",
      "mean   7.172995e+04  7.433144e+04          0.0  7.433144e+04  7.433144e+04   \n",
      "std    6.279014e+05  4.130084e+05          0.0  4.130084e+05  4.130084e+05   \n",
      "min   -1.820000e+02  0.000000e+00          0.0  0.000000e+00  0.000000e+00   \n",
      "25%    0.000000e+00  0.000000e+00          0.0  0.000000e+00  0.000000e+00   \n",
      "50%    1.000000e+01  0.000000e+00          0.0  0.000000e+00  0.000000e+00   \n",
      "75%    7.800000e+01  0.000000e+00          0.0  0.000000e+00  0.000000e+00   \n",
      "max    9.962325e+06  4.823748e+06          0.0  4.823748e+06  4.823748e+06   \n",
      "\n",
      "          Idle Mean   Idle Std      Idle Max      Idle Min  \n",
      "count  2.256000e+03     2256.0  2.256000e+03  2.256000e+03  \n",
      "mean   6.453425e+05        0.0  6.453425e+05  6.453425e+05  \n",
      "std    2.082684e+06        0.0  2.082684e+06  2.082684e+06  \n",
      "min    0.000000e+00        0.0  0.000000e+00  0.000000e+00  \n",
      "25%    0.000000e+00        0.0  0.000000e+00  0.000000e+00  \n",
      "50%    0.000000e+00        0.0  0.000000e+00  0.000000e+00  \n",
      "75%    0.000000e+00        0.0  0.000000e+00  0.000000e+00  \n",
      "max    9.962146e+06        0.0  9.962146e+06  9.962146e+06  \n",
      "['Source IP', ' Source Port', ' Destination IP', ' Destination Port', ' Protocol', ' Flow Duration', ' Flow Bytes/s', ' Flow Packets/s', ' Flow IAT Mean', ' Flow IAT Std', ' Flow IAT Max', ' Flow IAT Min', 'Fwd IAT Mean', ' Fwd IAT Std', ' Fwd IAT Max', ' Fwd IAT Min', 'Bwd IAT Mean', ' Bwd IAT Std', ' Bwd IAT Max', ' Bwd IAT Min', 'Active Mean', ' Active Std', ' Active Max', ' Active Min', 'Idle Mean', ' Idle Std', ' Idle Max', ' Idle Min', 'label']\n"
     ]
    }
   ],
   "source": [
    "print(dataframe.shape)\n",
    "dataframe = dataframe.reindex(np.random.permutation(dataframe.index)).copy()\n",
    "print(dataframe.describe())\n",
    "print(list(dataframe))"
   ]
  },
  {
   "cell_type": "code",
   "execution_count": 5,
   "id": "41168d74",
   "metadata": {},
   "outputs": [
    {
     "name": "stdout",
     "output_type": "stream",
     "text": [
      "        Protocol   Flow Duration   Flow IAT Max   Flow IAT Min   Fwd IAT Max   \n",
      "count     2256.0     2256.000000    2256.000000    2256.000000   2256.000000  \\\n",
      "mean         0.0        0.771780       0.150347       0.013083      0.151014   \n",
      "std          0.0        0.353918       0.216527       0.029262      0.216302   \n",
      "min          0.0        0.000000       0.000000       0.000000      0.000000   \n",
      "25%          0.0        0.642007       0.012921       0.011435      0.013672   \n",
      "50%          0.0        0.991104       0.037548       0.011565      0.038433   \n",
      "75%          0.0        0.998305       0.217486       0.012082      0.217563   \n",
      "max          0.0        1.000000       1.000000       1.000000      1.000000   \n",
      "\n",
      "        Fwd IAT Min   Bwd IAT Max   Bwd IAT Min  Active Mean   Active Std   \n",
      "count   2256.000000   2256.000000   2256.000000  2256.000000       2256.0  \\\n",
      "mean       0.005754      0.144449      0.007218     0.015409          0.0   \n",
      "std        0.056798      0.210711      0.063026     0.085620          0.0   \n",
      "min        0.000000      0.000000      0.000000     0.000000          0.0   \n",
      "25%        0.000017      0.012842      0.000018     0.000000          0.0   \n",
      "50%        0.000020      0.035942      0.000019     0.000000          0.0   \n",
      "75%        0.000026      0.206603      0.000026     0.000000          0.0   \n",
      "max        1.000000      1.000000      1.000000     1.000000          0.0   \n",
      "\n",
      "        Active Max   Active Min    Idle Mean   Idle Std     Idle Max   \n",
      "count  2256.000000  2256.000000  2256.000000     2256.0  2256.000000  \\\n",
      "mean      0.015409     0.015409     0.064779        0.0     0.064779   \n",
      "std       0.085620     0.085620     0.209060        0.0     0.209060   \n",
      "min       0.000000     0.000000     0.000000        0.0     0.000000   \n",
      "25%       0.000000     0.000000     0.000000        0.0     0.000000   \n",
      "50%       0.000000     0.000000     0.000000        0.0     0.000000   \n",
      "75%       0.000000     0.000000     0.000000        0.0     0.000000   \n",
      "max       1.000000     1.000000     1.000000        0.0     1.000000   \n",
      "\n",
      "          Idle Min  \n",
      "count  2256.000000  \n",
      "mean      0.064779  \n",
      "std       0.209060  \n",
      "min       0.000000  \n",
      "25%       0.000000  \n",
      "50%       0.000000  \n",
      "75%       0.000000  \n",
      "max       1.000000  \n"
     ]
    }
   ],
   "source": [
    "keys = dataframe.keys()\n",
    "data_to_process = dataframe[keys[4:len(keys) - 1]].copy()\n",
    "x_normalised = dfNormalize(data_to_process)\n",
    "print(x_normalised.describe())"
   ]
  },
  {
   "cell_type": "code",
   "execution_count": 6,
   "id": "20d79f83",
   "metadata": {},
   "outputs": [],
   "source": [
    "def change_labels(value):\n",
    "    if value == 'AUDIO':\n",
    "        return 1\n",
    "    elif value == 'BROWSING':\n",
    "        return 2\n",
    "    elif value == 'CHAT':\n",
    "        return 3\n",
    "    elif value == 'FILE-TRANSFER':\n",
    "        return 4\n",
    "    elif value == 'MAIL':\n",
    "        return 5\n",
    "    elif value == 'P2P':\n",
    "        return 6\n",
    "    elif value == 'VIDEO':\n",
    "        return 7\n",
    "    else:\n",
    "        return 8"
   ]
  },
  {
   "cell_type": "code",
   "execution_count": 7,
   "id": "cc8ce811",
   "metadata": {},
   "outputs": [],
   "source": [
    "y_normalised = dataframe['label'].apply(change_labels)\n",
    "\n",
    "X_train, X_test, y_train, y_test = train_test_split(x_normalised, y_normalised, test_size = 0.20)"
   ]
  },
  {
   "cell_type": "code",
   "execution_count": 8,
   "id": "937ffc1e",
   "metadata": {},
   "outputs": [
    {
     "name": "stderr",
     "output_type": "stream",
     "text": [
      "C:\\Users\\jonat\\anaconda3\\lib\\site-packages\\sklearn\\linear_model\\_logistic.py:458: ConvergenceWarning: lbfgs failed to converge (status=1):\n",
      "STOP: TOTAL NO. of ITERATIONS REACHED LIMIT.\n",
      "\n",
      "Increase the number of iterations (max_iter) or scale the data as shown in:\n",
      "    https://scikit-learn.org/stable/modules/preprocessing.html\n",
      "Please also refer to the documentation for alternative solver options:\n",
      "    https://scikit-learn.org/stable/modules/linear_model.html#logistic-regression\n",
      "  n_iter_i = _check_optimize_result(\n",
      "C:\\Users\\jonat\\anaconda3\\lib\\site-packages\\sklearn\\linear_model\\_logistic.py:458: ConvergenceWarning: lbfgs failed to converge (status=1):\n",
      "STOP: TOTAL NO. of ITERATIONS REACHED LIMIT.\n",
      "\n",
      "Increase the number of iterations (max_iter) or scale the data as shown in:\n",
      "    https://scikit-learn.org/stable/modules/preprocessing.html\n",
      "Please also refer to the documentation for alternative solver options:\n",
      "    https://scikit-learn.org/stable/modules/linear_model.html#logistic-regression\n",
      "  n_iter_i = _check_optimize_result(\n",
      "C:\\Users\\jonat\\anaconda3\\lib\\site-packages\\sklearn\\linear_model\\_logistic.py:458: ConvergenceWarning: lbfgs failed to converge (status=1):\n",
      "STOP: TOTAL NO. of ITERATIONS REACHED LIMIT.\n",
      "\n",
      "Increase the number of iterations (max_iter) or scale the data as shown in:\n",
      "    https://scikit-learn.org/stable/modules/preprocessing.html\n",
      "Please also refer to the documentation for alternative solver options:\n",
      "    https://scikit-learn.org/stable/modules/linear_model.html#logistic-regression\n",
      "  n_iter_i = _check_optimize_result(\n",
      "C:\\Users\\jonat\\anaconda3\\lib\\site-packages\\sklearn\\linear_model\\_logistic.py:458: ConvergenceWarning: lbfgs failed to converge (status=1):\n",
      "STOP: TOTAL NO. of ITERATIONS REACHED LIMIT.\n",
      "\n",
      "Increase the number of iterations (max_iter) or scale the data as shown in:\n",
      "    https://scikit-learn.org/stable/modules/preprocessing.html\n",
      "Please also refer to the documentation for alternative solver options:\n",
      "    https://scikit-learn.org/stable/modules/linear_model.html#logistic-regression\n",
      "  n_iter_i = _check_optimize_result(\n",
      "C:\\Users\\jonat\\anaconda3\\lib\\site-packages\\sklearn\\linear_model\\_logistic.py:458: ConvergenceWarning: lbfgs failed to converge (status=1):\n",
      "STOP: TOTAL NO. of ITERATIONS REACHED LIMIT.\n",
      "\n",
      "Increase the number of iterations (max_iter) or scale the data as shown in:\n",
      "    https://scikit-learn.org/stable/modules/preprocessing.html\n",
      "Please also refer to the documentation for alternative solver options:\n",
      "    https://scikit-learn.org/stable/modules/linear_model.html#logistic-regression\n",
      "  n_iter_i = _check_optimize_result(\n"
     ]
    },
    {
     "name": "stdout",
     "output_type": "stream",
     "text": [
      "               precision    recall  f1-score   support\n",
      "\n",
      "        AUDIO       0.26      0.47      0.33        47\n",
      "     BROWSING       0.33      0.08      0.13        62\n",
      "         CHAT       0.26      0.25      0.25        60\n",
      "FILE-TRANSFER       0.34      0.27      0.30        59\n",
      "         MAIL       0.34      0.43      0.38        51\n",
      "          P2P       0.48      0.50      0.49        50\n",
      "        VIDEO       0.39      0.23      0.29        66\n",
      "         VOIP       0.56      0.89      0.69        57\n",
      "\n",
      "     accuracy                           0.38       452\n",
      "    macro avg       0.37      0.39      0.36       452\n",
      " weighted avg       0.37      0.38      0.35       452\n",
      "\n",
      "Accuracy = 37.83\n"
     ]
    },
    {
     "name": "stderr",
     "output_type": "stream",
     "text": [
      "C:\\Users\\jonat\\anaconda3\\lib\\site-packages\\sklearn\\linear_model\\_logistic.py:458: ConvergenceWarning: lbfgs failed to converge (status=1):\n",
      "STOP: TOTAL NO. of ITERATIONS REACHED LIMIT.\n",
      "\n",
      "Increase the number of iterations (max_iter) or scale the data as shown in:\n",
      "    https://scikit-learn.org/stable/modules/preprocessing.html\n",
      "Please also refer to the documentation for alternative solver options:\n",
      "    https://scikit-learn.org/stable/modules/linear_model.html#logistic-regression\n",
      "  n_iter_i = _check_optimize_result(\n"
     ]
    }
   ],
   "source": [
    "from sklearn.model_selection import train_test_split\n",
    "from sklearn.linear_model import LogisticRegressionCV\n",
    "from sklearn.metrics import classification_report\n",
    "lr=LogisticRegressionCV() \n",
    "lr.fit(X_train, y_train)\n",
    "y_predict = lr.predict(X_test)\n",
    "target_names = ['AUDIO', 'BROWSING', 'CHAT', 'FILE-TRANSFER', 'MAIL', 'P2P', 'VIDEO' , 'VOIP']\n",
    "print(classification_report(y_test, y_predict, target_names=target_names))\n",
    "print(\"Accuracy = {:.2f}\".format(lr.score(X_test, y_test.values)*100))"
   ]
  },
  {
   "cell_type": "code",
   "execution_count": null,
   "id": "2b9710e5",
   "metadata": {},
   "outputs": [],
   "source": []
  }
 ],
 "metadata": {
  "kernelspec": {
   "display_name": "Python 3 (ipykernel)",
   "language": "python",
   "name": "python3"
  },
  "language_info": {
   "codemirror_mode": {
    "name": "ipython",
    "version": 3
   },
   "file_extension": ".py",
   "mimetype": "text/x-python",
   "name": "python",
   "nbconvert_exporter": "python",
   "pygments_lexer": "ipython3",
   "version": "3.10.9"
  }
 },
 "nbformat": 4,
 "nbformat_minor": 5
}
